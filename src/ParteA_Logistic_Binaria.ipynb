{
 "cells": [
  {
   "cell_type": "markdown",
   "id": "11612084",
   "metadata": {},
   "source": [
    "# Parte A - Regresión Logística Binaria\n"
   ]
  },
  {
   "cell_type": "markdown",
   "id": "c2720de7",
   "metadata": {},
   "source": [
    "Importar librerías y verificar entorno"
   ]
  },
  {
   "cell_type": "code",
   "execution_count": 1,
   "id": "d92a4700",
   "metadata": {},
   "outputs": [],
   "source": [
    "# ==============================================================\n",
    "# PARTE A - REGRESIÓN LOGÍSTICA BINARIA DESDE CERO\n",
    "# ==============================================================\n",
    "\n",
    "import numpy as np\n",
    "import pandas as pd\n",
    "import matplotlib.pyplot as plt\n",
    "import seaborn as sns\n",
    "from sklearn.datasets import fetch_openml\n",
    "from sklearn.model_selection import train_test_split\n",
    "from sklearn.preprocessing import StandardScaler\n",
    "from sklearn.linear_model import LogisticRegression\n",
    "from sklearn.metrics import classification_report, confusion_matrix\n"
   ]
  },
  {
   "cell_type": "markdown",
   "id": "c4364b0c",
   "metadata": {},
   "source": [
    "## A.1. Exploración y preprocesamiento del dataset\n"
   ]
  },
  {
   "cell_type": "markdown",
   "id": "99c2c0a1",
   "metadata": {},
   "source": [
    "Cargar dataset desde OpenML\n",
    "- Nota: cuando se intenta cargar *(\"heart-disease-uci\", as_frame=True)*, indica un error esto puede indicar que; ya no está disponible o fue desactivado en OpenML.\n",
    "- Se hizo una revision manual En OpenML donde hay un dataset llamado “Heart-Disease” con ID 43398 que sí está activo. (*el cual se trabajará con ello*)"
   ]
  },
  {
   "cell_type": "code",
   "execution_count": 2,
   "id": "226cf82a",
   "metadata": {},
   "outputs": [
    {
     "name": "stdout",
     "output_type": "stream",
     "text": [
      "(303, 14)\n"
     ]
    },
    {
     "data": {
      "application/vnd.microsoft.datawrangler.viewer.v0+json": {
       "columns": [
        {
         "name": "index",
         "rawType": "int64",
         "type": "integer"
        },
        {
         "name": "age",
         "rawType": "float64",
         "type": "float"
        },
        {
         "name": "sex",
         "rawType": "float64",
         "type": "float"
        },
        {
         "name": "cp",
         "rawType": "float64",
         "type": "float"
        },
        {
         "name": "trestbps",
         "rawType": "float64",
         "type": "float"
        },
        {
         "name": "chol",
         "rawType": "float64",
         "type": "float"
        },
        {
         "name": "fbs",
         "rawType": "float64",
         "type": "float"
        },
        {
         "name": "restecg",
         "rawType": "float64",
         "type": "float"
        },
        {
         "name": "thalach",
         "rawType": "float64",
         "type": "float"
        },
        {
         "name": "exang",
         "rawType": "float64",
         "type": "float"
        },
        {
         "name": "oldpeak",
         "rawType": "float64",
         "type": "float"
        },
        {
         "name": "slope",
         "rawType": "float64",
         "type": "float"
        },
        {
         "name": "ca",
         "rawType": "float64",
         "type": "float"
        },
        {
         "name": "thal",
         "rawType": "float64",
         "type": "float"
        },
        {
         "name": "target",
         "rawType": "float64",
         "type": "float"
        }
       ],
       "ref": "3be08a84-8874-468e-9f64-4d71be511a34",
       "rows": [
        [
         "0",
         "63.0",
         "1.0",
         "3.0",
         "145.0",
         "233.0",
         "1.0",
         "0.0",
         "150.0",
         "0.0",
         "2.3",
         "0.0",
         "0.0",
         "1.0",
         "1.0"
        ],
        [
         "1",
         "37.0",
         "1.0",
         "2.0",
         "130.0",
         "250.0",
         "0.0",
         "1.0",
         "187.0",
         "0.0",
         "3.5",
         "0.0",
         "0.0",
         "2.0",
         "1.0"
        ],
        [
         "2",
         "41.0",
         "0.0",
         "1.0",
         "130.0",
         "204.0",
         "0.0",
         "0.0",
         "172.0",
         "0.0",
         "1.4",
         "2.0",
         "0.0",
         "2.0",
         "1.0"
        ],
        [
         "3",
         "56.0",
         "1.0",
         "1.0",
         "120.0",
         "236.0",
         "0.0",
         "1.0",
         "178.0",
         "0.0",
         "0.8",
         "2.0",
         "0.0",
         "2.0",
         "1.0"
        ],
        [
         "4",
         "57.0",
         "0.0",
         "0.0",
         "120.0",
         "354.0",
         "0.0",
         "1.0",
         "163.0",
         "1.0",
         "0.6",
         "2.0",
         "0.0",
         "2.0",
         "1.0"
        ]
       ],
       "shape": {
        "columns": 14,
        "rows": 5
       }
      },
      "text/html": [
       "<div>\n",
       "<style scoped>\n",
       "    .dataframe tbody tr th:only-of-type {\n",
       "        vertical-align: middle;\n",
       "    }\n",
       "\n",
       "    .dataframe tbody tr th {\n",
       "        vertical-align: top;\n",
       "    }\n",
       "\n",
       "    .dataframe thead th {\n",
       "        text-align: right;\n",
       "    }\n",
       "</style>\n",
       "<table border=\"1\" class=\"dataframe\">\n",
       "  <thead>\n",
       "    <tr style=\"text-align: right;\">\n",
       "      <th></th>\n",
       "      <th>age</th>\n",
       "      <th>sex</th>\n",
       "      <th>cp</th>\n",
       "      <th>trestbps</th>\n",
       "      <th>chol</th>\n",
       "      <th>fbs</th>\n",
       "      <th>restecg</th>\n",
       "      <th>thalach</th>\n",
       "      <th>exang</th>\n",
       "      <th>oldpeak</th>\n",
       "      <th>slope</th>\n",
       "      <th>ca</th>\n",
       "      <th>thal</th>\n",
       "      <th>target</th>\n",
       "    </tr>\n",
       "  </thead>\n",
       "  <tbody>\n",
       "    <tr>\n",
       "      <th>0</th>\n",
       "      <td>63.0</td>\n",
       "      <td>1.0</td>\n",
       "      <td>3.0</td>\n",
       "      <td>145.0</td>\n",
       "      <td>233.0</td>\n",
       "      <td>1.0</td>\n",
       "      <td>0.0</td>\n",
       "      <td>150.0</td>\n",
       "      <td>0.0</td>\n",
       "      <td>2.3</td>\n",
       "      <td>0.0</td>\n",
       "      <td>0.0</td>\n",
       "      <td>1.0</td>\n",
       "      <td>1.0</td>\n",
       "    </tr>\n",
       "    <tr>\n",
       "      <th>1</th>\n",
       "      <td>37.0</td>\n",
       "      <td>1.0</td>\n",
       "      <td>2.0</td>\n",
       "      <td>130.0</td>\n",
       "      <td>250.0</td>\n",
       "      <td>0.0</td>\n",
       "      <td>1.0</td>\n",
       "      <td>187.0</td>\n",
       "      <td>0.0</td>\n",
       "      <td>3.5</td>\n",
       "      <td>0.0</td>\n",
       "      <td>0.0</td>\n",
       "      <td>2.0</td>\n",
       "      <td>1.0</td>\n",
       "    </tr>\n",
       "    <tr>\n",
       "      <th>2</th>\n",
       "      <td>41.0</td>\n",
       "      <td>0.0</td>\n",
       "      <td>1.0</td>\n",
       "      <td>130.0</td>\n",
       "      <td>204.0</td>\n",
       "      <td>0.0</td>\n",
       "      <td>0.0</td>\n",
       "      <td>172.0</td>\n",
       "      <td>0.0</td>\n",
       "      <td>1.4</td>\n",
       "      <td>2.0</td>\n",
       "      <td>0.0</td>\n",
       "      <td>2.0</td>\n",
       "      <td>1.0</td>\n",
       "    </tr>\n",
       "    <tr>\n",
       "      <th>3</th>\n",
       "      <td>56.0</td>\n",
       "      <td>1.0</td>\n",
       "      <td>1.0</td>\n",
       "      <td>120.0</td>\n",
       "      <td>236.0</td>\n",
       "      <td>0.0</td>\n",
       "      <td>1.0</td>\n",
       "      <td>178.0</td>\n",
       "      <td>0.0</td>\n",
       "      <td>0.8</td>\n",
       "      <td>2.0</td>\n",
       "      <td>0.0</td>\n",
       "      <td>2.0</td>\n",
       "      <td>1.0</td>\n",
       "    </tr>\n",
       "    <tr>\n",
       "      <th>4</th>\n",
       "      <td>57.0</td>\n",
       "      <td>0.0</td>\n",
       "      <td>0.0</td>\n",
       "      <td>120.0</td>\n",
       "      <td>354.0</td>\n",
       "      <td>0.0</td>\n",
       "      <td>1.0</td>\n",
       "      <td>163.0</td>\n",
       "      <td>1.0</td>\n",
       "      <td>0.6</td>\n",
       "      <td>2.0</td>\n",
       "      <td>0.0</td>\n",
       "      <td>2.0</td>\n",
       "      <td>1.0</td>\n",
       "    </tr>\n",
       "  </tbody>\n",
       "</table>\n",
       "</div>"
      ],
      "text/plain": [
       "    age  sex   cp  trestbps   chol  fbs  restecg  thalach  exang  oldpeak  \\\n",
       "0  63.0  1.0  3.0     145.0  233.0  1.0      0.0    150.0    0.0      2.3   \n",
       "1  37.0  1.0  2.0     130.0  250.0  0.0      1.0    187.0    0.0      3.5   \n",
       "2  41.0  0.0  1.0     130.0  204.0  0.0      0.0    172.0    0.0      1.4   \n",
       "3  56.0  1.0  1.0     120.0  236.0  0.0      1.0    178.0    0.0      0.8   \n",
       "4  57.0  0.0  0.0     120.0  354.0  0.0      1.0    163.0    1.0      0.6   \n",
       "\n",
       "   slope   ca  thal  target  \n",
       "0    0.0  0.0   1.0     1.0  \n",
       "1    0.0  0.0   2.0     1.0  \n",
       "2    2.0  0.0   2.0     1.0  \n",
       "3    2.0  0.0   2.0     1.0  \n",
       "4    2.0  0.0   2.0     1.0  "
      ]
     },
     "execution_count": 2,
     "metadata": {},
     "output_type": "execute_result"
    }
   ],
   "source": [
    "\n",
    "heart = fetch_openml(data_id=43398, as_frame=True)\n",
    "df = heart.frame.copy()\n",
    "print(df.shape)\n",
    "df.head()\n"
   ]
  },
  {
   "cell_type": "markdown",
   "id": "7f2eb1ec",
   "metadata": {},
   "source": [
    "Información general del dataset"
   ]
  },
  {
   "cell_type": "code",
   "execution_count": 3,
   "id": "f9cc7103",
   "metadata": {},
   "outputs": [
    {
     "name": "stdout",
     "output_type": "stream",
     "text": [
      "<class 'pandas.core.frame.DataFrame'>\n",
      "RangeIndex: 303 entries, 0 to 302\n",
      "Data columns (total 14 columns):\n",
      " #   Column    Non-Null Count  Dtype  \n",
      "---  ------    --------------  -----  \n",
      " 0   age       303 non-null    float64\n",
      " 1   sex       303 non-null    float64\n",
      " 2   cp        303 non-null    float64\n",
      " 3   trestbps  303 non-null    float64\n",
      " 4   chol      303 non-null    float64\n",
      " 5   fbs       303 non-null    float64\n",
      " 6   restecg   303 non-null    float64\n",
      " 7   thalach   303 non-null    float64\n",
      " 8   exang     303 non-null    float64\n",
      " 9   oldpeak   303 non-null    float64\n",
      " 10  slope     303 non-null    float64\n",
      " 11  ca        303 non-null    float64\n",
      " 12  thal      303 non-null    float64\n",
      " 13  target    303 non-null    float64\n",
      "dtypes: float64(14)\n",
      "memory usage: 33.3 KB\n"
     ]
    }
   ],
   "source": [
    "df.info()\n"
   ]
  },
  {
   "cell_type": "markdown",
   "id": "c644854b",
   "metadata": {},
   "source": [
    "- *Se observa que algunas variables son numéricas y otras categóricas (ej. sex, cp, thal, etc.).*"
   ]
  },
  {
   "cell_type": "markdown",
   "id": "ad875af2",
   "metadata": {},
   "source": [
    "Estadísticas descriptivas básicas"
   ]
  },
  {
   "cell_type": "code",
   "execution_count": 4,
   "id": "67e378c7",
   "metadata": {},
   "outputs": [
    {
     "data": {
      "application/vnd.microsoft.datawrangler.viewer.v0+json": {
       "columns": [
        {
         "name": "index",
         "rawType": "object",
         "type": "string"
        },
        {
         "name": "count",
         "rawType": "float64",
         "type": "float"
        },
        {
         "name": "mean",
         "rawType": "float64",
         "type": "float"
        },
        {
         "name": "std",
         "rawType": "float64",
         "type": "float"
        },
        {
         "name": "min",
         "rawType": "float64",
         "type": "float"
        },
        {
         "name": "25%",
         "rawType": "float64",
         "type": "float"
        },
        {
         "name": "50%",
         "rawType": "float64",
         "type": "float"
        },
        {
         "name": "75%",
         "rawType": "float64",
         "type": "float"
        },
        {
         "name": "max",
         "rawType": "float64",
         "type": "float"
        }
       ],
       "ref": "e0ac9c6c-155a-406a-96d0-5bf2d993cdb0",
       "rows": [
        [
         "age",
         "303.0",
         "54.366336633663366",
         "9.082100989837857",
         "29.0",
         "47.5",
         "55.0",
         "61.0",
         "77.0"
        ],
        [
         "sex",
         "303.0",
         "0.6831683168316832",
         "0.46601082333962385",
         "0.0",
         "0.0",
         "1.0",
         "1.0",
         "1.0"
        ],
        [
         "cp",
         "303.0",
         "0.966996699669967",
         "1.0320524894832985",
         "0.0",
         "0.0",
         "1.0",
         "2.0",
         "3.0"
        ],
        [
         "trestbps",
         "303.0",
         "131.62376237623764",
         "17.5381428135171",
         "94.0",
         "120.0",
         "130.0",
         "140.0",
         "200.0"
        ],
        [
         "chol",
         "303.0",
         "246.26402640264027",
         "51.83075098793003",
         "126.0",
         "211.0",
         "240.0",
         "274.5",
         "564.0"
        ],
        [
         "fbs",
         "303.0",
         "0.1485148514851485",
         "0.35619787492797644",
         "0.0",
         "0.0",
         "0.0",
         "0.0",
         "1.0"
        ],
        [
         "restecg",
         "303.0",
         "0.528052805280528",
         "0.525859596359298",
         "0.0",
         "0.0",
         "1.0",
         "1.0",
         "2.0"
        ],
        [
         "thalach",
         "303.0",
         "149.64686468646866",
         "22.905161114914094",
         "71.0",
         "133.5",
         "153.0",
         "166.0",
         "202.0"
        ],
        [
         "exang",
         "303.0",
         "0.32673267326732675",
         "0.4697944645223165",
         "0.0",
         "0.0",
         "0.0",
         "1.0",
         "1.0"
        ],
        [
         "oldpeak",
         "303.0",
         "1.0396039603960396",
         "1.1610750220686348",
         "0.0",
         "0.0",
         "0.8",
         "1.6",
         "6.2"
        ],
        [
         "slope",
         "303.0",
         "1.3993399339933994",
         "0.6162261453459619",
         "0.0",
         "1.0",
         "1.0",
         "2.0",
         "2.0"
        ],
        [
         "ca",
         "303.0",
         "0.7293729372937293",
         "1.022606364969327",
         "0.0",
         "0.0",
         "0.0",
         "1.0",
         "4.0"
        ],
        [
         "thal",
         "303.0",
         "2.3135313531353137",
         "0.6122765072781409",
         "0.0",
         "2.0",
         "2.0",
         "3.0",
         "3.0"
        ],
        [
         "target",
         "303.0",
         "0.5445544554455446",
         "0.4988347841643913",
         "0.0",
         "0.0",
         "1.0",
         "1.0",
         "1.0"
        ]
       ],
       "shape": {
        "columns": 8,
        "rows": 14
       }
      },
      "text/html": [
       "<div>\n",
       "<style scoped>\n",
       "    .dataframe tbody tr th:only-of-type {\n",
       "        vertical-align: middle;\n",
       "    }\n",
       "\n",
       "    .dataframe tbody tr th {\n",
       "        vertical-align: top;\n",
       "    }\n",
       "\n",
       "    .dataframe thead th {\n",
       "        text-align: right;\n",
       "    }\n",
       "</style>\n",
       "<table border=\"1\" class=\"dataframe\">\n",
       "  <thead>\n",
       "    <tr style=\"text-align: right;\">\n",
       "      <th></th>\n",
       "      <th>count</th>\n",
       "      <th>mean</th>\n",
       "      <th>std</th>\n",
       "      <th>min</th>\n",
       "      <th>25%</th>\n",
       "      <th>50%</th>\n",
       "      <th>75%</th>\n",
       "      <th>max</th>\n",
       "    </tr>\n",
       "  </thead>\n",
       "  <tbody>\n",
       "    <tr>\n",
       "      <th>age</th>\n",
       "      <td>303.0</td>\n",
       "      <td>54.366337</td>\n",
       "      <td>9.082101</td>\n",
       "      <td>29.0</td>\n",
       "      <td>47.5</td>\n",
       "      <td>55.0</td>\n",
       "      <td>61.0</td>\n",
       "      <td>77.0</td>\n",
       "    </tr>\n",
       "    <tr>\n",
       "      <th>sex</th>\n",
       "      <td>303.0</td>\n",
       "      <td>0.683168</td>\n",
       "      <td>0.466011</td>\n",
       "      <td>0.0</td>\n",
       "      <td>0.0</td>\n",
       "      <td>1.0</td>\n",
       "      <td>1.0</td>\n",
       "      <td>1.0</td>\n",
       "    </tr>\n",
       "    <tr>\n",
       "      <th>cp</th>\n",
       "      <td>303.0</td>\n",
       "      <td>0.966997</td>\n",
       "      <td>1.032052</td>\n",
       "      <td>0.0</td>\n",
       "      <td>0.0</td>\n",
       "      <td>1.0</td>\n",
       "      <td>2.0</td>\n",
       "      <td>3.0</td>\n",
       "    </tr>\n",
       "    <tr>\n",
       "      <th>trestbps</th>\n",
       "      <td>303.0</td>\n",
       "      <td>131.623762</td>\n",
       "      <td>17.538143</td>\n",
       "      <td>94.0</td>\n",
       "      <td>120.0</td>\n",
       "      <td>130.0</td>\n",
       "      <td>140.0</td>\n",
       "      <td>200.0</td>\n",
       "    </tr>\n",
       "    <tr>\n",
       "      <th>chol</th>\n",
       "      <td>303.0</td>\n",
       "      <td>246.264026</td>\n",
       "      <td>51.830751</td>\n",
       "      <td>126.0</td>\n",
       "      <td>211.0</td>\n",
       "      <td>240.0</td>\n",
       "      <td>274.5</td>\n",
       "      <td>564.0</td>\n",
       "    </tr>\n",
       "    <tr>\n",
       "      <th>fbs</th>\n",
       "      <td>303.0</td>\n",
       "      <td>0.148515</td>\n",
       "      <td>0.356198</td>\n",
       "      <td>0.0</td>\n",
       "      <td>0.0</td>\n",
       "      <td>0.0</td>\n",
       "      <td>0.0</td>\n",
       "      <td>1.0</td>\n",
       "    </tr>\n",
       "    <tr>\n",
       "      <th>restecg</th>\n",
       "      <td>303.0</td>\n",
       "      <td>0.528053</td>\n",
       "      <td>0.525860</td>\n",
       "      <td>0.0</td>\n",
       "      <td>0.0</td>\n",
       "      <td>1.0</td>\n",
       "      <td>1.0</td>\n",
       "      <td>2.0</td>\n",
       "    </tr>\n",
       "    <tr>\n",
       "      <th>thalach</th>\n",
       "      <td>303.0</td>\n",
       "      <td>149.646865</td>\n",
       "      <td>22.905161</td>\n",
       "      <td>71.0</td>\n",
       "      <td>133.5</td>\n",
       "      <td>153.0</td>\n",
       "      <td>166.0</td>\n",
       "      <td>202.0</td>\n",
       "    </tr>\n",
       "    <tr>\n",
       "      <th>exang</th>\n",
       "      <td>303.0</td>\n",
       "      <td>0.326733</td>\n",
       "      <td>0.469794</td>\n",
       "      <td>0.0</td>\n",
       "      <td>0.0</td>\n",
       "      <td>0.0</td>\n",
       "      <td>1.0</td>\n",
       "      <td>1.0</td>\n",
       "    </tr>\n",
       "    <tr>\n",
       "      <th>oldpeak</th>\n",
       "      <td>303.0</td>\n",
       "      <td>1.039604</td>\n",
       "      <td>1.161075</td>\n",
       "      <td>0.0</td>\n",
       "      <td>0.0</td>\n",
       "      <td>0.8</td>\n",
       "      <td>1.6</td>\n",
       "      <td>6.2</td>\n",
       "    </tr>\n",
       "    <tr>\n",
       "      <th>slope</th>\n",
       "      <td>303.0</td>\n",
       "      <td>1.399340</td>\n",
       "      <td>0.616226</td>\n",
       "      <td>0.0</td>\n",
       "      <td>1.0</td>\n",
       "      <td>1.0</td>\n",
       "      <td>2.0</td>\n",
       "      <td>2.0</td>\n",
       "    </tr>\n",
       "    <tr>\n",
       "      <th>ca</th>\n",
       "      <td>303.0</td>\n",
       "      <td>0.729373</td>\n",
       "      <td>1.022606</td>\n",
       "      <td>0.0</td>\n",
       "      <td>0.0</td>\n",
       "      <td>0.0</td>\n",
       "      <td>1.0</td>\n",
       "      <td>4.0</td>\n",
       "    </tr>\n",
       "    <tr>\n",
       "      <th>thal</th>\n",
       "      <td>303.0</td>\n",
       "      <td>2.313531</td>\n",
       "      <td>0.612277</td>\n",
       "      <td>0.0</td>\n",
       "      <td>2.0</td>\n",
       "      <td>2.0</td>\n",
       "      <td>3.0</td>\n",
       "      <td>3.0</td>\n",
       "    </tr>\n",
       "    <tr>\n",
       "      <th>target</th>\n",
       "      <td>303.0</td>\n",
       "      <td>0.544554</td>\n",
       "      <td>0.498835</td>\n",
       "      <td>0.0</td>\n",
       "      <td>0.0</td>\n",
       "      <td>1.0</td>\n",
       "      <td>1.0</td>\n",
       "      <td>1.0</td>\n",
       "    </tr>\n",
       "  </tbody>\n",
       "</table>\n",
       "</div>"
      ],
      "text/plain": [
       "          count        mean        std    min    25%    50%    75%    max\n",
       "age       303.0   54.366337   9.082101   29.0   47.5   55.0   61.0   77.0\n",
       "sex       303.0    0.683168   0.466011    0.0    0.0    1.0    1.0    1.0\n",
       "cp        303.0    0.966997   1.032052    0.0    0.0    1.0    2.0    3.0\n",
       "trestbps  303.0  131.623762  17.538143   94.0  120.0  130.0  140.0  200.0\n",
       "chol      303.0  246.264026  51.830751  126.0  211.0  240.0  274.5  564.0\n",
       "fbs       303.0    0.148515   0.356198    0.0    0.0    0.0    0.0    1.0\n",
       "restecg   303.0    0.528053   0.525860    0.0    0.0    1.0    1.0    2.0\n",
       "thalach   303.0  149.646865  22.905161   71.0  133.5  153.0  166.0  202.0\n",
       "exang     303.0    0.326733   0.469794    0.0    0.0    0.0    1.0    1.0\n",
       "oldpeak   303.0    1.039604   1.161075    0.0    0.0    0.8    1.6    6.2\n",
       "slope     303.0    1.399340   0.616226    0.0    1.0    1.0    2.0    2.0\n",
       "ca        303.0    0.729373   1.022606    0.0    0.0    0.0    1.0    4.0\n",
       "thal      303.0    2.313531   0.612277    0.0    2.0    2.0    3.0    3.0\n",
       "target    303.0    0.544554   0.498835    0.0    0.0    1.0    1.0    1.0"
      ]
     },
     "execution_count": 4,
     "metadata": {},
     "output_type": "execute_result"
    }
   ],
   "source": [
    "df.describe(include='all').T\n"
   ]
  },
  {
   "cell_type": "markdown",
   "id": "6b1b51f8",
   "metadata": {},
   "source": [
    "Revisión rápida de valores faltantes"
   ]
  },
  {
   "cell_type": "code",
   "execution_count": 5,
   "id": "fff3db0c",
   "metadata": {},
   "outputs": [
    {
     "data": {
      "application/vnd.microsoft.datawrangler.viewer.v0+json": {
       "columns": [
        {
         "name": "index",
         "rawType": "object",
         "type": "string"
        },
        {
         "name": "0",
         "rawType": "int64",
         "type": "integer"
        }
       ],
       "ref": "e8205a1a-de3a-45c6-9a30-08e868c5b637",
       "rows": [
        [
         "age",
         "0"
        ],
        [
         "sex",
         "0"
        ],
        [
         "cp",
         "0"
        ],
        [
         "trestbps",
         "0"
        ],
        [
         "chol",
         "0"
        ],
        [
         "fbs",
         "0"
        ],
        [
         "restecg",
         "0"
        ],
        [
         "thalach",
         "0"
        ],
        [
         "exang",
         "0"
        ],
        [
         "oldpeak",
         "0"
        ],
        [
         "slope",
         "0"
        ],
        [
         "ca",
         "0"
        ],
        [
         "thal",
         "0"
        ],
        [
         "target",
         "0"
        ]
       ],
       "shape": {
        "columns": 1,
        "rows": 14
       }
      },
      "text/plain": [
       "age         0\n",
       "sex         0\n",
       "cp          0\n",
       "trestbps    0\n",
       "chol        0\n",
       "fbs         0\n",
       "restecg     0\n",
       "thalach     0\n",
       "exang       0\n",
       "oldpeak     0\n",
       "slope       0\n",
       "ca          0\n",
       "thal        0\n",
       "target      0\n",
       "dtype: int64"
      ]
     },
     "execution_count": 5,
     "metadata": {},
     "output_type": "execute_result"
    }
   ],
   "source": [
    "df.isna().sum()\n"
   ]
  },
  {
   "cell_type": "markdown",
   "id": "2e813bba",
   "metadata": {},
   "source": [
    "- *No hay datos faltantes*"
   ]
  },
  {
   "cell_type": "markdown",
   "id": "c1a19bf1",
   "metadata": {},
   "source": [
    "Distribución de la variable objetivo"
   ]
  },
  {
   "cell_type": "code",
   "execution_count": 6,
   "id": "cb70394e",
   "metadata": {},
   "outputs": [
    {
     "data": {
      "image/png": "[encoded data removed]",
      "text/plain": [
       "<Figure size 640x480 with 1 Axes>"
      ]
     },
     "metadata": {},
     "output_type": "display_data"
    }
   ],
   "source": [
    "sns.countplot(x=\"target\", data=df, hue=\"target\", palette=\"Set2\", legend=False)\n",
    "plt.title(\"Distribución de la variable objetivo (0 = sano, 1 = enfermo)\")\n",
    "plt.show()\n"
   ]
  },
  {
   "cell_type": "markdown",
   "id": "54e517e7",
   "metadata": {},
   "source": [
    "- *Esto sirve para verificar si las clases están balanceadas (≈50 / 50).*"
   ]
  },
  {
   "cell_type": "markdown",
   "id": "cf9e060b",
   "metadata": {},
   "source": [
    "## A.2. Implementación desde cero\n"
   ]
  },
  {
   "cell_type": "markdown",
   "id": "03cbc27d",
   "metadata": {},
   "source": [
    "## A.3. Gráficos de convergencia\n"
   ]
  },
  {
   "cell_type": "markdown",
   "id": "05b5c542",
   "metadata": {},
   "source": [
    "## A.4. Evaluación del modelo\n"
   ]
  },
  {
   "cell_type": "markdown",
   "id": "8923a1af",
   "metadata": {},
   "source": [
    "## A.5. Comparación con scikit-learn\n"
   ]
  }
 ],
 "metadata": {
  "kernelspec": {
   "display_name": "Python 3",
   "language": "python",
   "name": "python3"
  },
  "language_info": {
   "codemirror_mode": {
    "name": "ipython",
    "version": 3
   },
   "file_extension": ".py",
   "mimetype": "text/x-python",
   "name": "python",
   "nbconvert_exporter": "python",
   "pygments_lexer": "ipython3",
   "version": "3.10.0"
  }
 },
 "nbformat": 4,
 "nbformat_minor": 5
}
