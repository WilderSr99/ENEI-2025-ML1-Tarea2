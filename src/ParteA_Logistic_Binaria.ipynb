{
 "cells": [
  {
   "cell_type": "markdown",
   "id": "11612084",
   "metadata": {},
   "source": [
    "# Parte A - Regresión Logística Binaria\n"
   ]
  },
  {
   "cell_type": "markdown",
   "id": "c4364b0c",
   "metadata": {},
   "source": [
    "## A.1. Exploración y preprocesamiento del dataset\n"
   ]
  },
  {
   "cell_type": "code",
   "execution_count": 2,
   "id": "307763dc",
   "metadata": {},
   "outputs": [],
   "source": [
    "# ==============================================================\n",
    "# PARTE A - REGRESIÓN LOGÍSTICA BINARIA DESDE CERO\n",
    "# ==============================================================\n",
    "\n",
    "import numpy as np\n",
    "import pandas as pd\n",
    "import matplotlib.pyplot as plt\n",
    "import seaborn as sns\n",
    "from sklearn.datasets import fetch_openml\n",
    "from sklearn.model_selection import train_test_split\n",
    "from sklearn.preprocessing import StandardScaler\n",
    "from sklearn.linear_model import LogisticRegression\n",
    "from sklearn.metrics import classification_report, confusion_matrix\n",
    "from sklearn.metrics import roc_curve, roc_auc_score\n",
    "from sklearn.metrics import precision_recall_curve, average_precision_score\n",
    "from sklearn.metrics import f1_score\n",
    "from sklearn.metrics import log_loss\n",
    "from sklearn.utils import resample"
   ]
  },
  {
   "cell_type": "markdown",
   "id": "cf9e060b",
   "metadata": {},
   "source": [
    "## A.2. Implementación desde cero\n"
   ]
  },
  {
   "cell_type": "markdown",
   "id": "03cbc27d",
   "metadata": {},
   "source": [
    "## A.3. Gráficos de convergencia\n"
   ]
  },
  {
   "cell_type": "markdown",
   "id": "05b5c542",
   "metadata": {},
   "source": [
    "## A.4. Evaluación del modelo\n"
   ]
  },
  {
   "cell_type": "markdown",
   "id": "8923a1af",
   "metadata": {},
   "source": [
    "## A.5. Comparación con scikit-learn\n"
   ]
  }
 ],
 "metadata": {
  "kernelspec": {
   "display_name": "base",
   "language": "python",
   "name": "python3"
  },
  "language_info": {
   "codemirror_mode": {
    "name": "ipython",
    "version": 3
   },
   "file_extension": ".py",
   "mimetype": "text/x-python",
   "name": "python",
   "nbconvert_exporter": "python",
   "pygments_lexer": "ipython3",
   "version": "3.12.7"
  }
 },
 "nbformat": 4,
 "nbformat_minor": 5
}
