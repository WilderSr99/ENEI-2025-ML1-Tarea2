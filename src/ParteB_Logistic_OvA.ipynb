{
 "cells": [
  {
   "cell_type": "markdown",
   "id": "d43ae884",
   "metadata": {},
   "source": [
    "# PARTE B — LOGISTIC REGRESSION One-vs-All (OvA)"
   ]
  },
  {
   "cell_type": "markdown",
   "id": "ac33cc33",
   "metadata": {},
   "source": [
    "Encabezado e imports"
   ]
  },
  {
   "cell_type": "code",
   "execution_count": 1,
   "id": "b1386cd3",
   "metadata": {},
   "outputs": [
    {
     "name": "stdout",
     "output_type": "stream",
     "text": [
      "Entorno de trabajo correctamente configurado.\n",
      "\n",
      "Versión de Python: 3.10.0\n",
      "Numpy: 2.2.6\n",
      "Pandas: 2.3.3\n",
      "Scikit-learn: 1.7.2\n",
      "Matplotlib: 3.10.6\n",
      "Seaborn: 0.13.2\n",
      "OpenML: 0.15.1\n",
      "Joblib: 1.5.2\n"
     ]
    }
   ],
   "source": [
    "# ==============================================================\n",
    "# PARTE B — LOGISTIC REGRESSION One-vs-All (OvA)\n",
    "# Dataset: Wine (sklearn.datasets.load_wine)\n",
    "# ==============================================================\n",
    "\n",
    "import numpy as np\n",
    "import pandas as pd\n",
    "import matplotlib.pyplot as plt\n",
    "import seaborn as sns\n",
    "\n",
    "from utils.preprocessing import load_wine_data\n",
    "from utils.logistic_core import logistic_regression_train, predict, sigmoid\n",
    "from utils.metrics import evaluate_classification\n",
    "\n",
    "from sklearn.metrics import confusion_matrix, ConfusionMatrixDisplay, accuracy_score, classification_report\n",
    "from sklearn.linear_model import LogisticRegression\n",
    "from pathlib import Path\n"
   ]
  },
  {
   "cell_type": "markdown",
   "id": "858bccc2",
   "metadata": {},
   "source": [
    "## B.1. Cargamos y estandarizamos Wine"
   ]
  },
  {
   "cell_type": "code",
   "execution_count": 2,
   "id": "500f8f42",
   "metadata": {},
   "outputs": [
    {
     "name": "stdout",
     "output_type": "stream",
     "text": [
      "✅ Wine cargado y estandarizado\n",
      "Train: (124, 13) | Test: (54, 13)\n",
      "Clases: ['class_0', 'class_1', 'class_2']\n",
      "Distribución y_train: [41 50 33]\n",
      "Distribución y_test : [18 21 15]\n"
     ]
    }
   ],
   "source": [
    "X_train, X_test, y_train, y_test, feature_names, class_names = load_wine_data()\n",
    "print(\"Clases:\", class_names)\n",
    "print(\"Distribución y_train:\", np.bincount(y_train))\n",
    "print(\"Distribución y_test :\", np.bincount(y_test))\n"
   ]
  },
  {
   "cell_type": "markdown",
   "id": "8e41942e",
   "metadata": {},
   "source": [
    "## B.2. Entrenamiento OvA (3 clasificadores binarios)"
   ]
  },
  {
   "cell_type": "markdown",
   "id": "71173422",
   "metadata": {},
   "source": [
    "Usamos el optimizador binario de la Parte A para cada clase k:"
   ]
  },
  {
   "cell_type": "code",
   "execution_count": 24,
   "id": "9452bf96",
   "metadata": {},
   "outputs": [
    {
     "name": "stdout",
     "output_type": "stream",
     "text": [
      "Iteración    0 | Pérdida: 0.6931\n",
      "Iteración  100 | Pérdida: 0.1552\n",
      "Iteración  200 | Pérdida: 0.1004\n",
      "Iteración  300 | Pérdida: 0.0767\n",
      "Iteración  400 | Pérdida: 0.0631\n",
      "Iteración  500 | Pérdida: 0.0540\n",
      "Iteración  600 | Pérdida: 0.0475\n",
      "Iteración  700 | Pérdida: 0.0426\n",
      "Iteración  800 | Pérdida: 0.0387\n",
      "Iteración  900 | Pérdida: 0.0355\n",
      "Iteración 1000 | Pérdida: 0.0328\n",
      "Iteración 1100 | Pérdida: 0.0306\n",
      "Iteración 1200 | Pérdida: 0.0286\n",
      "Iteración 1300 | Pérdida: 0.0269\n",
      "Iteración 1400 | Pérdida: 0.0255\n",
      "Iteración 1500 | Pérdida: 0.0241\n",
      "Iteración 1600 | Pérdida: 0.0230\n",
      "Iteración 1700 | Pérdida: 0.0219\n",
      "Iteración 1800 | Pérdida: 0.0209\n",
      "Iteración 1900 | Pérdida: 0.0201\n",
      "Clase 0 entrenada. Última pérdida: 0.0193\n",
      "Iteración    0 | Pérdida: 0.6931\n",
      "Iteración  100 | Pérdida: 0.1817\n",
      "Iteración  200 | Pérdida: 0.1208\n",
      "Iteración  300 | Pérdida: 0.0949\n",
      "Iteración  400 | Pérdida: 0.0800\n",
      "Iteración  500 | Pérdida: 0.0700\n",
      "Iteración  600 | Pérdida: 0.0628\n",
      "Iteración  700 | Pérdida: 0.0572\n",
      "Iteración  800 | Pérdida: 0.0528\n",
      "Iteración  900 | Pérdida: 0.0491\n",
      "Iteración 1000 | Pérdida: 0.0461\n",
      "Iteración 1100 | Pérdida: 0.0434\n",
      "Iteración 1200 | Pérdida: 0.0411\n",
      "Iteración 1300 | Pérdida: 0.0391\n",
      "Iteración 1400 | Pérdida: 0.0373\n",
      "Iteración 1500 | Pérdida: 0.0357\n",
      "Iteración 1600 | Pérdida: 0.0343\n",
      "Iteración 1700 | Pérdida: 0.0330\n",
      "Iteración 1800 | Pérdida: 0.0318\n",
      "Iteración 1900 | Pérdida: 0.0307\n",
      "Clase 1 entrenada. Última pérdida: 0.0297\n",
      "Iteración    0 | Pérdida: 0.6931\n",
      "Iteración  100 | Pérdida: 0.1526\n",
      "Iteración  200 | Pérdida: 0.1004\n",
      "Iteración  300 | Pérdida: 0.0781\n",
      "Iteración  400 | Pérdida: 0.0652\n",
      "Iteración  500 | Pérdida: 0.0567\n",
      "Iteración  600 | Pérdida: 0.0505\n",
      "Iteración  700 | Pérdida: 0.0458\n",
      "Iteración  800 | Pérdida: 0.0421\n",
      "Iteración  900 | Pérdida: 0.0390\n",
      "Iteración 1000 | Pérdida: 0.0364\n",
      "Iteración 1100 | Pérdida: 0.0342\n",
      "Iteración 1200 | Pérdida: 0.0323\n",
      "Iteración 1300 | Pérdida: 0.0306\n",
      "Iteración 1400 | Pérdida: 0.0292\n",
      "Iteración 1500 | Pérdida: 0.0278\n",
      "Iteración 1600 | Pérdida: 0.0266\n",
      "Iteración 1700 | Pérdida: 0.0256\n",
      "Iteración 1800 | Pérdida: 0.0246\n",
      "Iteración 1900 | Pérdida: 0.0237\n",
      "Clase 2 entrenada. Última pérdida: 0.0229\n"
     ]
    }
   ],
   "source": [
    "# Entrenar 3 clasificadores: \"clase k\" vs \"resto\"\n",
    "K = len(np.unique(y_train))   # 3\n",
    "weights = []\n",
    "biases = []\n",
    "losses_all = []\n",
    "\n",
    "for k in range(K):\n",
    "    yk_train = (y_train == k).astype(int)  # binario\n",
    "    w_k, b_k, L_k = logistic_regression_train(\n",
    "        X_train, yk_train, lr=0.05, n_iter=2000\n",
    "    )\n",
    "    weights.append(w_k)\n",
    "    biases.append(b_k)\n",
    "    losses_all.append(L_k)\n",
    "    print(f\"Clase {k} entrenada. Última pérdida: {L_k[-1]:.4f}\")\n"
   ]
  },
  {
   "cell_type": "markdown",
   "id": "b5dae92a",
   "metadata": {},
   "source": [
    "## B.3. Predicción por probabilidad y argmax"
   ]
  },
  {
   "cell_type": "markdown",
   "id": "1bfaa009",
   "metadata": {},
   "source": [
    "Calculamos probabilidades P(y=k|x) de cada clasificador binario y predecimos la clase con máxima probabilidad:"
   ]
  },
  {
   "cell_type": "code",
   "execution_count": 25,
   "id": "f8acd808",
   "metadata": {},
   "outputs": [
    {
     "name": "stdout",
     "output_type": "stream",
     "text": [
      "Accuracy OvA (nuestro): 0.98148\n"
     ]
    }
   ],
   "source": [
    "# Probabilidades por clase (OvA)\n",
    "probs_test = np.column_stack([\n",
    "    sigmoid(X_test @ weights[k] + biases[k]) for k in range(K)\n",
    "])  # shape: (n_samples_test, 3)\n",
    "\n",
    "y_pred_ova = probs_test.argmax(axis=1)\n",
    "\n",
    "acc_ova = accuracy_score(y_test, y_pred_ova)\n",
    "print(f\"Accuracy OvA (nuestro): {acc_ova:.5f}\")\n"
   ]
  },
  {
   "cell_type": "code",
   "execution_count": 26,
   "id": "032bc078",
   "metadata": {},
   "outputs": [
    {
     "name": "stdout",
     "output_type": "stream",
     "text": [
      "\n",
      "=== Reporte de Clasificación (OvA - Nuestro Modelo) ===\n"
     ]
    },
    {
     "data": {
      "application/vnd.microsoft.datawrangler.viewer.v0+json": {
       "columns": [
        {
         "name": "index",
         "rawType": "object",
         "type": "string"
        },
        {
         "name": "precision",
         "rawType": "float64",
         "type": "float"
        },
        {
         "name": "recall",
         "rawType": "float64",
         "type": "float"
        },
        {
         "name": "f1-score",
         "rawType": "float64",
         "type": "float"
        },
        {
         "name": "support",
         "rawType": "float64",
         "type": "float"
        }
       ],
       "ref": "46a64030-857d-4b7b-b86a-6b21d409edcd",
       "rows": [
        [
         "class_0",
         "0.94737",
         "1.0",
         "0.97297",
         "18.0"
        ],
        [
         "class_1",
         "1.0",
         "0.95238",
         "0.97561",
         "21.0"
        ],
        [
         "class_2",
         "1.0",
         "1.0",
         "1.0",
         "15.0"
        ],
        [
         "accuracy",
         "0.98148",
         "0.98148",
         "0.98148",
         "0.98148"
        ],
        [
         "macro avg",
         "0.98246",
         "0.98413",
         "0.98286",
         "54.0"
        ],
        [
         "weighted avg",
         "0.98246",
         "0.98148",
         "0.98151",
         "54.0"
        ]
       ],
       "shape": {
        "columns": 4,
        "rows": 6
       }
      },
      "text/html": [
       "<div>\n",
       "<style scoped>\n",
       "    .dataframe tbody tr th:only-of-type {\n",
       "        vertical-align: middle;\n",
       "    }\n",
       "\n",
       "    .dataframe tbody tr th {\n",
       "        vertical-align: top;\n",
       "    }\n",
       "\n",
       "    .dataframe thead th {\n",
       "        text-align: right;\n",
       "    }\n",
       "</style>\n",
       "<table border=\"1\" class=\"dataframe\">\n",
       "  <thead>\n",
       "    <tr style=\"text-align: right;\">\n",
       "      <th></th>\n",
       "      <th>precision</th>\n",
       "      <th>recall</th>\n",
       "      <th>f1-score</th>\n",
       "      <th>support</th>\n",
       "    </tr>\n",
       "  </thead>\n",
       "  <tbody>\n",
       "    <tr>\n",
       "      <th>class_0</th>\n",
       "      <td>0.94737</td>\n",
       "      <td>1.00000</td>\n",
       "      <td>0.97297</td>\n",
       "      <td>18.00000</td>\n",
       "    </tr>\n",
       "    <tr>\n",
       "      <th>class_1</th>\n",
       "      <td>1.00000</td>\n",
       "      <td>0.95238</td>\n",
       "      <td>0.97561</td>\n",
       "      <td>21.00000</td>\n",
       "    </tr>\n",
       "    <tr>\n",
       "      <th>class_2</th>\n",
       "      <td>1.00000</td>\n",
       "      <td>1.00000</td>\n",
       "      <td>1.00000</td>\n",
       "      <td>15.00000</td>\n",
       "    </tr>\n",
       "    <tr>\n",
       "      <th>accuracy</th>\n",
       "      <td>0.98148</td>\n",
       "      <td>0.98148</td>\n",
       "      <td>0.98148</td>\n",
       "      <td>0.98148</td>\n",
       "    </tr>\n",
       "    <tr>\n",
       "      <th>macro avg</th>\n",
       "      <td>0.98246</td>\n",
       "      <td>0.98413</td>\n",
       "      <td>0.98286</td>\n",
       "      <td>54.00000</td>\n",
       "    </tr>\n",
       "    <tr>\n",
       "      <th>weighted avg</th>\n",
       "      <td>0.98246</td>\n",
       "      <td>0.98148</td>\n",
       "      <td>0.98151</td>\n",
       "      <td>54.00000</td>\n",
       "    </tr>\n",
       "  </tbody>\n",
       "</table>\n",
       "</div>"
      ],
      "text/plain": [
       "              precision   recall  f1-score   support\n",
       "class_0         0.94737  1.00000   0.97297  18.00000\n",
       "class_1         1.00000  0.95238   0.97561  21.00000\n",
       "class_2         1.00000  1.00000   1.00000  15.00000\n",
       "accuracy        0.98148  0.98148   0.98148   0.98148\n",
       "macro avg       0.98246  0.98413   0.98286  54.00000\n",
       "weighted avg    0.98246  0.98148   0.98151  54.00000"
      ]
     },
     "metadata": {},
     "output_type": "display_data"
    }
   ],
   "source": [
    "# ==============================================================\n",
    "# REPORTE DE CLASIFICACIÓN EN TABLA\n",
    "# ==============================================================\n",
    "\n",
    "report_dict = classification_report(y_test, y_pred_ova, target_names=class_names, output_dict=True)\n",
    "df_report_ova = pd.DataFrame(report_dict).transpose().round(5)\n",
    "\n",
    "print(\"\\n=== Reporte de Clasificación (OvA - Nuestro Modelo) ===\")\n",
    "display(df_report_ova)\n"
   ]
  },
  {
   "cell_type": "code",
   "execution_count": 27,
   "id": "de6cc5a6",
   "metadata": {},
   "outputs": [
    {
     "data": {
      "application/vnd.microsoft.datawrangler.viewer.v0+json": {
       "columns": [
        {
         "name": "Resumen",
         "rawType": "object",
         "type": "string"
        },
        {
         "name": "precision",
         "rawType": "float64",
         "type": "float"
        },
        {
         "name": "recall",
         "rawType": "float64",
         "type": "float"
        },
        {
         "name": "f1-score",
         "rawType": "float64",
         "type": "float"
        },
        {
         "name": "support",
         "rawType": "float64",
         "type": "float"
        }
       ],
       "ref": "51f9975a-fc60-4ef8-adf6-10d221552b12",
       "rows": [
        [
         "accuracy",
         "0.98148",
         "0.98148",
         "0.98148",
         "0.98148"
        ],
        [
         "macro avg",
         "0.98246",
         "0.98413",
         "0.98286",
         "54.0"
        ],
        [
         "weighted avg",
         "0.98246",
         "0.98148",
         "0.98151",
         "54.0"
        ]
       ],
       "shape": {
        "columns": 4,
        "rows": 3
       }
      },
      "text/html": [
       "<div>\n",
       "<style scoped>\n",
       "    .dataframe tbody tr th:only-of-type {\n",
       "        vertical-align: middle;\n",
       "    }\n",
       "\n",
       "    .dataframe tbody tr th {\n",
       "        vertical-align: top;\n",
       "    }\n",
       "\n",
       "    .dataframe thead th {\n",
       "        text-align: right;\n",
       "    }\n",
       "</style>\n",
       "<table border=\"1\" class=\"dataframe\">\n",
       "  <thead>\n",
       "    <tr style=\"text-align: right;\">\n",
       "      <th></th>\n",
       "      <th>precision</th>\n",
       "      <th>recall</th>\n",
       "      <th>f1-score</th>\n",
       "      <th>support</th>\n",
       "    </tr>\n",
       "    <tr>\n",
       "      <th>Resumen</th>\n",
       "      <th></th>\n",
       "      <th></th>\n",
       "      <th></th>\n",
       "      <th></th>\n",
       "    </tr>\n",
       "  </thead>\n",
       "  <tbody>\n",
       "    <tr>\n",
       "      <th>accuracy</th>\n",
       "      <td>0.98148</td>\n",
       "      <td>0.98148</td>\n",
       "      <td>0.98148</td>\n",
       "      <td>0.98148</td>\n",
       "    </tr>\n",
       "    <tr>\n",
       "      <th>macro avg</th>\n",
       "      <td>0.98246</td>\n",
       "      <td>0.98413</td>\n",
       "      <td>0.98286</td>\n",
       "      <td>54.00000</td>\n",
       "    </tr>\n",
       "    <tr>\n",
       "      <th>weighted avg</th>\n",
       "      <td>0.98246</td>\n",
       "      <td>0.98148</td>\n",
       "      <td>0.98151</td>\n",
       "      <td>54.00000</td>\n",
       "    </tr>\n",
       "  </tbody>\n",
       "</table>\n",
       "</div>"
      ],
      "text/plain": [
       "              precision   recall  f1-score   support\n",
       "Resumen                                             \n",
       "accuracy        0.98148  0.98148   0.98148   0.98148\n",
       "macro avg       0.98246  0.98413   0.98286  54.00000\n",
       "weighted avg    0.98246  0.98148   0.98151  54.00000"
      ]
     },
     "metadata": {},
     "output_type": "display_data"
    }
   ],
   "source": [
    "# ==============================================================\n",
    "# RESUMEN GLOBAL (macro y weighted average)\n",
    "# ==============================================================\n",
    "\n",
    "summary_ova = df_report_ova.loc[['accuracy', 'macro avg', 'weighted avg']].rename_axis(\"Resumen\")\n",
    "display(summary_ova)"
   ]
  },
  {
   "cell_type": "markdown",
   "id": "c9067073",
   "metadata": {},
   "source": [
    "B.4. Matriz de confusión (guardar figura)"
   ]
  },
  {
   "cell_type": "code",
   "execution_count": 28,
   "id": "90933c99",
   "metadata": {},
   "outputs": [
    {
     "data": {
      "image/png": "[encoded data removed]",
      "text/plain": [
       "<Figure size 640x480 with 2 Axes>"
      ]
     },
     "metadata": {},
     "output_type": "display_data"
    }
   ],
   "source": [
    "cm = confusion_matrix(y_test, y_pred_ova)\n",
    "disp = ConfusionMatrixDisplay(confusion_matrix=cm, display_labels=class_names)\n",
    "disp.plot(cmap=\"Blues\")\n",
    "plt.title(\"Matriz de confusión — OvA (nuestro)\")\n",
    "Path(\"../report/figuras\").mkdir(parents=True, exist_ok=True)\n",
    "plt.savefig(\"../report/figuras/matriz_confusion_ova.png\", dpi=300)\n",
    "plt.show()\n"
   ]
  },
  {
   "cell_type": "markdown",
   "id": "971653c0",
   "metadata": {},
   "source": [
    "## B.5. Comparación con sklearn (OvR)"
   ]
  },
  {
   "cell_type": "code",
   "execution_count": 29,
   "id": "af929e86",
   "metadata": {},
   "outputs": [
    {
     "name": "stdout",
     "output_type": "stream",
     "text": [
      "Accuracy OvR (sklearn): 0.98148\n"
     ]
    },
    {
     "name": "stderr",
     "output_type": "stream",
     "text": [
      "c:\\Users\\pc\\Desktop\\PEU DATA SCIENCE INEI\\PEU INEI\\ALEXANDER ML\\PRACTICAS\\TAREA 2\\ENEI-2025-ML1-Tarea2\\.venv\\lib\\site-packages\\sklearn\\linear_model\\_logistic.py:1281: FutureWarning: 'multi_class' was deprecated in version 1.5 and will be removed in 1.8. Use OneVsRestClassifier(LogisticRegression(..)) instead. Leave it to its default value to avoid this warning.\n",
      "  warnings.warn(\n"
     ]
    }
   ],
   "source": [
    "\n",
    "# ==============================================================\n",
    "# ENTRENAMIENTO CON SKLEARN (OvR)\n",
    "# ==============================================================\n",
    "\n",
    "clf_ovr = LogisticRegression(multi_class=\"ovr\", max_iter=5000)\n",
    "clf_ovr.fit(X_train, y_train)\n",
    "y_pred_sk = clf_ovr.predict(X_test)\n",
    "\n",
    "# Accuracy global\n",
    "acc_sk = accuracy_score(y_test, y_pred_sk)\n",
    "print(f\"Accuracy OvR (sklearn): {acc_sk:.5f}\")\n",
    "\n"
   ]
  },
  {
   "cell_type": "code",
   "execution_count": 30,
   "id": "0ca45da0",
   "metadata": {},
   "outputs": [
    {
     "name": "stdout",
     "output_type": "stream",
     "text": [
      "\n",
      "=== Reporte de Clasificación (sklearn OvR) ===\n"
     ]
    },
    {
     "data": {
      "application/vnd.microsoft.datawrangler.viewer.v0+json": {
       "columns": [
        {
         "name": "index",
         "rawType": "object",
         "type": "string"
        },
        {
         "name": "precision",
         "rawType": "float64",
         "type": "float"
        },
        {
         "name": "recall",
         "rawType": "float64",
         "type": "float"
        },
        {
         "name": "f1-score",
         "rawType": "float64",
         "type": "float"
        },
        {
         "name": "support",
         "rawType": "float64",
         "type": "float"
        }
       ],
       "ref": "5d98c4a7-2005-480d-a11b-3f490fad4d9e",
       "rows": [
        [
         "class_0",
         "0.94737",
         "1.0",
         "0.97297",
         "18.0"
        ],
        [
         "class_1",
         "1.0",
         "0.95238",
         "0.97561",
         "21.0"
        ],
        [
         "class_2",
         "1.0",
         "1.0",
         "1.0",
         "15.0"
        ],
        [
         "accuracy",
         "0.98148",
         "0.98148",
         "0.98148",
         "0.98148"
        ],
        [
         "macro avg",
         "0.98246",
         "0.98413",
         "0.98286",
         "54.0"
        ],
        [
         "weighted avg",
         "0.98246",
         "0.98148",
         "0.98151",
         "54.0"
        ]
       ],
       "shape": {
        "columns": 4,
        "rows": 6
       }
      },
      "text/html": [
       "<div>\n",
       "<style scoped>\n",
       "    .dataframe tbody tr th:only-of-type {\n",
       "        vertical-align: middle;\n",
       "    }\n",
       "\n",
       "    .dataframe tbody tr th {\n",
       "        vertical-align: top;\n",
       "    }\n",
       "\n",
       "    .dataframe thead th {\n",
       "        text-align: right;\n",
       "    }\n",
       "</style>\n",
       "<table border=\"1\" class=\"dataframe\">\n",
       "  <thead>\n",
       "    <tr style=\"text-align: right;\">\n",
       "      <th></th>\n",
       "      <th>precision</th>\n",
       "      <th>recall</th>\n",
       "      <th>f1-score</th>\n",
       "      <th>support</th>\n",
       "    </tr>\n",
       "  </thead>\n",
       "  <tbody>\n",
       "    <tr>\n",
       "      <th>class_0</th>\n",
       "      <td>0.94737</td>\n",
       "      <td>1.00000</td>\n",
       "      <td>0.97297</td>\n",
       "      <td>18.00000</td>\n",
       "    </tr>\n",
       "    <tr>\n",
       "      <th>class_1</th>\n",
       "      <td>1.00000</td>\n",
       "      <td>0.95238</td>\n",
       "      <td>0.97561</td>\n",
       "      <td>21.00000</td>\n",
       "    </tr>\n",
       "    <tr>\n",
       "      <th>class_2</th>\n",
       "      <td>1.00000</td>\n",
       "      <td>1.00000</td>\n",
       "      <td>1.00000</td>\n",
       "      <td>15.00000</td>\n",
       "    </tr>\n",
       "    <tr>\n",
       "      <th>accuracy</th>\n",
       "      <td>0.98148</td>\n",
       "      <td>0.98148</td>\n",
       "      <td>0.98148</td>\n",
       "      <td>0.98148</td>\n",
       "    </tr>\n",
       "    <tr>\n",
       "      <th>macro avg</th>\n",
       "      <td>0.98246</td>\n",
       "      <td>0.98413</td>\n",
       "      <td>0.98286</td>\n",
       "      <td>54.00000</td>\n",
       "    </tr>\n",
       "    <tr>\n",
       "      <th>weighted avg</th>\n",
       "      <td>0.98246</td>\n",
       "      <td>0.98148</td>\n",
       "      <td>0.98151</td>\n",
       "      <td>54.00000</td>\n",
       "    </tr>\n",
       "  </tbody>\n",
       "</table>\n",
       "</div>"
      ],
      "text/plain": [
       "              precision   recall  f1-score   support\n",
       "class_0         0.94737  1.00000   0.97297  18.00000\n",
       "class_1         1.00000  0.95238   0.97561  21.00000\n",
       "class_2         1.00000  1.00000   1.00000  15.00000\n",
       "accuracy        0.98148  0.98148   0.98148   0.98148\n",
       "macro avg       0.98246  0.98413   0.98286  54.00000\n",
       "weighted avg    0.98246  0.98148   0.98151  54.00000"
      ]
     },
     "metadata": {},
     "output_type": "display_data"
    }
   ],
   "source": [
    "# ==============================================================\n",
    "# REPORTE DE CLASIFICACIÓN EN TABLA\n",
    "# ==============================================================\n",
    "\n",
    "# Crear DataFrame con las métricas\n",
    "report_dict = classification_report(y_test, y_pred_sk, target_names=class_names, output_dict=True)\n",
    "df_report = pd.DataFrame(report_dict).transpose()\n",
    "\n",
    "# Redondear valores\n",
    "df_report = df_report.round(5)\n",
    "\n",
    "# Mostrar tabla limpia\n",
    "print(\"\\n=== Reporte de Clasificación (sklearn OvR) ===\")\n",
    "display(df_report)\n"
   ]
  },
  {
   "cell_type": "code",
   "execution_count": 19,
   "id": "832cd222",
   "metadata": {},
   "outputs": [
    {
     "data": {
      "application/vnd.microsoft.datawrangler.viewer.v0+json": {
       "columns": [
        {
         "name": "Resumen",
         "rawType": "object",
         "type": "string"
        },
        {
         "name": "precision",
         "rawType": "float64",
         "type": "float"
        },
        {
         "name": "recall",
         "rawType": "float64",
         "type": "float"
        },
        {
         "name": "f1-score",
         "rawType": "float64",
         "type": "float"
        },
        {
         "name": "support",
         "rawType": "float64",
         "type": "float"
        }
       ],
       "ref": "8fd194b5-9003-4bbd-8f96-f332363889a8",
       "rows": [
        [
         "accuracy",
         "0.98148",
         "0.98148",
         "0.98148",
         "0.98148"
        ],
        [
         "macro avg",
         "0.98246",
         "0.98413",
         "0.98286",
         "54.0"
        ],
        [
         "weighted avg",
         "0.98246",
         "0.98148",
         "0.98151",
         "54.0"
        ]
       ],
       "shape": {
        "columns": 4,
        "rows": 3
       }
      },
      "text/html": [
       "<div>\n",
       "<style scoped>\n",
       "    .dataframe tbody tr th:only-of-type {\n",
       "        vertical-align: middle;\n",
       "    }\n",
       "\n",
       "    .dataframe tbody tr th {\n",
       "        vertical-align: top;\n",
       "    }\n",
       "\n",
       "    .dataframe thead th {\n",
       "        text-align: right;\n",
       "    }\n",
       "</style>\n",
       "<table border=\"1\" class=\"dataframe\">\n",
       "  <thead>\n",
       "    <tr style=\"text-align: right;\">\n",
       "      <th></th>\n",
       "      <th>precision</th>\n",
       "      <th>recall</th>\n",
       "      <th>f1-score</th>\n",
       "      <th>support</th>\n",
       "    </tr>\n",
       "    <tr>\n",
       "      <th>Resumen</th>\n",
       "      <th></th>\n",
       "      <th></th>\n",
       "      <th></th>\n",
       "      <th></th>\n",
       "    </tr>\n",
       "  </thead>\n",
       "  <tbody>\n",
       "    <tr>\n",
       "      <th>accuracy</th>\n",
       "      <td>0.98148</td>\n",
       "      <td>0.98148</td>\n",
       "      <td>0.98148</td>\n",
       "      <td>0.98148</td>\n",
       "    </tr>\n",
       "    <tr>\n",
       "      <th>macro avg</th>\n",
       "      <td>0.98246</td>\n",
       "      <td>0.98413</td>\n",
       "      <td>0.98286</td>\n",
       "      <td>54.00000</td>\n",
       "    </tr>\n",
       "    <tr>\n",
       "      <th>weighted avg</th>\n",
       "      <td>0.98246</td>\n",
       "      <td>0.98148</td>\n",
       "      <td>0.98151</td>\n",
       "      <td>54.00000</td>\n",
       "    </tr>\n",
       "  </tbody>\n",
       "</table>\n",
       "</div>"
      ],
      "text/plain": [
       "              precision   recall  f1-score   support\n",
       "Resumen                                             \n",
       "accuracy        0.98148  0.98148   0.98148   0.98148\n",
       "macro avg       0.98246  0.98413   0.98286  54.00000\n",
       "weighted avg    0.98246  0.98148   0.98151  54.00000"
      ]
     },
     "metadata": {},
     "output_type": "display_data"
    }
   ],
   "source": [
    "\n",
    "# ==============================================================\n",
    "#  Mostrar tabla resumen de métricas promedio\n",
    "# ==============================================================\n",
    "\n",
    "summary = df_report.loc[['accuracy', 'macro avg', 'weighted avg']].rename_axis(\"Resumen\")\n",
    "display(summary)\n"
   ]
  },
  {
   "cell_type": "markdown",
   "id": "e4c7b5c6",
   "metadata": {},
   "source": [
    "## B.6. Comparación de coeficientes (heatmap y archivo)"
   ]
  },
  {
   "cell_type": "markdown",
   "id": "3d4cf2b0",
   "metadata": {},
   "source": [
    "Preparamos dos matrices de coeficientes: nuestros y sklearn, y graficamos la diferencia (nuestro-sklearn)."
   ]
  },
  {
   "cell_type": "code",
   "execution_count": 12,
   "id": "6be33673",
   "metadata": {},
   "outputs": [
    {
     "name": "stdout",
     "output_type": "stream",
     "text": [
      "=== Diferencia de coeficientes (nuestro − sklearn) ===\n"
     ]
    },
    {
     "data": {
      "application/vnd.microsoft.datawrangler.viewer.v0+json": {
       "columns": [
        {
         "name": "index",
         "rawType": "object",
         "type": "string"
        },
        {
         "name": "alcohol",
         "rawType": "float64",
         "type": "float"
        },
        {
         "name": "malic_acid",
         "rawType": "float64",
         "type": "float"
        },
        {
         "name": "ash",
         "rawType": "float64",
         "type": "float"
        },
        {
         "name": "alcalinity_of_ash",
         "rawType": "float64",
         "type": "float"
        },
        {
         "name": "magnesium",
         "rawType": "float64",
         "type": "float"
        },
        {
         "name": "total_phenols",
         "rawType": "float64",
         "type": "float"
        },
        {
         "name": "flavanoids",
         "rawType": "float64",
         "type": "float"
        },
        {
         "name": "nonflavanoid_phenols",
         "rawType": "float64",
         "type": "float"
        },
        {
         "name": "proanthocyanins",
         "rawType": "float64",
         "type": "float"
        },
        {
         "name": "color_intensity",
         "rawType": "float64",
         "type": "float"
        },
        {
         "name": "hue",
         "rawType": "float64",
         "type": "float"
        },
        {
         "name": "od280/od315_of_diluted_wines",
         "rawType": "float64",
         "type": "float"
        },
        {
         "name": "proline",
         "rawType": "float64",
         "type": "float"
        }
       ],
       "ref": "c7a7f694-ea31-4251-8238-ed4e30876c07",
       "rows": [
        [
         "cls_0",
         "0.3627",
         "0.1334",
         "0.2006",
         "-0.4352",
         "0.0098",
         "0.1136",
         "0.2765",
         "0.0865",
         "-0.1866",
         "0.0837",
         "0.0369",
         "0.1766",
         "0.4649"
        ],
        [
         "cls_1",
         "-0.4774",
         "-0.1841",
         "-0.3184",
         "0.2133",
         "-0.1639",
         "-0.038",
         "-0.0275",
         "0.0424",
         "0.2201",
         "-0.3332",
         "0.2993",
         "0.0864",
         "-0.4771"
        ],
        [
         "cls_2",
         "0.0773",
         "0.0701",
         "0.0728",
         "-0.1133",
         "-0.0849",
         "0.0966",
         "-0.1407",
         "-0.2357",
         "0.2207",
         "0.5716",
         "-0.0753",
         "-0.033",
         "-0.0832"
        ]
       ],
       "shape": {
        "columns": 13,
        "rows": 3
       }
      },
      "text/html": [
       "<div>\n",
       "<style scoped>\n",
       "    .dataframe tbody tr th:only-of-type {\n",
       "        vertical-align: middle;\n",
       "    }\n",
       "\n",
       "    .dataframe tbody tr th {\n",
       "        vertical-align: top;\n",
       "    }\n",
       "\n",
       "    .dataframe thead th {\n",
       "        text-align: right;\n",
       "    }\n",
       "</style>\n",
       "<table border=\"1\" class=\"dataframe\">\n",
       "  <thead>\n",
       "    <tr style=\"text-align: right;\">\n",
       "      <th></th>\n",
       "      <th>alcohol</th>\n",
       "      <th>malic_acid</th>\n",
       "      <th>ash</th>\n",
       "      <th>alcalinity_of_ash</th>\n",
       "      <th>magnesium</th>\n",
       "      <th>total_phenols</th>\n",
       "      <th>flavanoids</th>\n",
       "      <th>nonflavanoid_phenols</th>\n",
       "      <th>proanthocyanins</th>\n",
       "      <th>color_intensity</th>\n",
       "      <th>hue</th>\n",
       "      <th>od280/od315_of_diluted_wines</th>\n",
       "      <th>proline</th>\n",
       "    </tr>\n",
       "  </thead>\n",
       "  <tbody>\n",
       "    <tr>\n",
       "      <th>cls_0</th>\n",
       "      <td>0.3627</td>\n",
       "      <td>0.1334</td>\n",
       "      <td>0.2006</td>\n",
       "      <td>-0.4352</td>\n",
       "      <td>0.0098</td>\n",
       "      <td>0.1136</td>\n",
       "      <td>0.2765</td>\n",
       "      <td>0.0865</td>\n",
       "      <td>-0.1866</td>\n",
       "      <td>0.0837</td>\n",
       "      <td>0.0369</td>\n",
       "      <td>0.1766</td>\n",
       "      <td>0.4649</td>\n",
       "    </tr>\n",
       "    <tr>\n",
       "      <th>cls_1</th>\n",
       "      <td>-0.4774</td>\n",
       "      <td>-0.1841</td>\n",
       "      <td>-0.3184</td>\n",
       "      <td>0.2133</td>\n",
       "      <td>-0.1639</td>\n",
       "      <td>-0.0380</td>\n",
       "      <td>-0.0275</td>\n",
       "      <td>0.0424</td>\n",
       "      <td>0.2201</td>\n",
       "      <td>-0.3332</td>\n",
       "      <td>0.2993</td>\n",
       "      <td>0.0864</td>\n",
       "      <td>-0.4771</td>\n",
       "    </tr>\n",
       "    <tr>\n",
       "      <th>cls_2</th>\n",
       "      <td>0.0773</td>\n",
       "      <td>0.0701</td>\n",
       "      <td>0.0728</td>\n",
       "      <td>-0.1133</td>\n",
       "      <td>-0.0849</td>\n",
       "      <td>0.0966</td>\n",
       "      <td>-0.1407</td>\n",
       "      <td>-0.2357</td>\n",
       "      <td>0.2207</td>\n",
       "      <td>0.5716</td>\n",
       "      <td>-0.0753</td>\n",
       "      <td>-0.0330</td>\n",
       "      <td>-0.0832</td>\n",
       "    </tr>\n",
       "  </tbody>\n",
       "</table>\n",
       "</div>"
      ],
      "text/plain": [
       "       alcohol  malic_acid     ash  alcalinity_of_ash  magnesium  \\\n",
       "cls_0   0.3627      0.1334  0.2006            -0.4352     0.0098   \n",
       "cls_1  -0.4774     -0.1841 -0.3184             0.2133    -0.1639   \n",
       "cls_2   0.0773      0.0701  0.0728            -0.1133    -0.0849   \n",
       "\n",
       "       total_phenols  flavanoids  nonflavanoid_phenols  proanthocyanins  \\\n",
       "cls_0         0.1136      0.2765                0.0865          -0.1866   \n",
       "cls_1        -0.0380     -0.0275                0.0424           0.2201   \n",
       "cls_2         0.0966     -0.1407               -0.2357           0.2207   \n",
       "\n",
       "       color_intensity     hue  od280/od315_of_diluted_wines  proline  \n",
       "cls_0           0.0837  0.0369                        0.1766   0.4649  \n",
       "cls_1          -0.3332  0.2993                        0.0864  -0.4771  \n",
       "cls_2           0.5716 -0.0753                       -0.0330  -0.0832  "
      ]
     },
     "metadata": {},
     "output_type": "display_data"
    },
    {
     "data": {
      "image/png": "[encoded data removed]",
      "text/plain": [
       "<Figure size 1000x400 with 2 Axes>"
      ]
     },
     "metadata": {},
     "output_type": "display_data"
    }
   ],
   "source": [
    "\n",
    "# ==============================================================\n",
    "# COMPARACIÓN DE COEFICIENTES ENTRE NUESTRO MODELO Y SKLEARN\n",
    "# ==============================================================\n",
    "\n",
    "our_coef = np.vstack(weights)              # (K, n_features)\n",
    "sk_coef  = clf_ovr.coef_                   # (K, n_features)\n",
    "\n",
    "df_diff = pd.DataFrame(\n",
    "    our_coef - sk_coef,\n",
    "    index=[f\"cls_{k}\" for k in range(K)],\n",
    "    columns=feature_names\n",
    ")\n",
    "\n",
    "# Mostrar tabla con valores redondeados\n",
    "print(\"=== Diferencia de coeficientes (nuestro − sklearn) ===\")\n",
    "display(df_diff.round(4))\n",
    "\n",
    "# Visualizar diferencias\n",
    "plt.figure(figsize=(10, 4))\n",
    "sns.heatmap(df_diff, cmap=\"RdBu_r\", center=0, annot=False)\n",
    "plt.title(\"Diferencia de coeficientes (nuestro − sklearn)\", fontsize=12, weight='bold')\n",
    "plt.xlabel(\"Características\")\n",
    "plt.ylabel(\"Clases\")\n",
    "plt.tight_layout()\n",
    "plt.savefig(\"../report/figuras/comparacion_coeficientes.png\", dpi=300)\n",
    "plt.show()\n",
    "\n"
   ]
  },
  {
   "cell_type": "code",
   "execution_count": 13,
   "id": "d7039dd2",
   "metadata": {},
   "outputs": [
    {
     "name": "stdout",
     "output_type": "stream",
     "text": [
      "\n",
      "=== Top-5 características más influyentes por clase ===\n"
     ]
    },
    {
     "data": {
      "application/vnd.microsoft.datawrangler.viewer.v0+json": {
       "columns": [
        {
         "name": "index",
         "rawType": "int64",
         "type": "integer"
        },
        {
         "name": "Clase 0 (class_0)",
         "rawType": "object",
         "type": "string"
        },
        {
         "name": "Clase 1 (class_1)",
         "rawType": "object",
         "type": "string"
        },
        {
         "name": "Clase 2 (class_2)",
         "rawType": "object",
         "type": "string"
        }
       ],
       "ref": "cae714f7-fd1c-425b-888b-304f89bdae61",
       "rows": [
        [
         "0",
         "proline",
         "proline",
         "color_intensity"
        ],
        [
         "1",
         "alcalinity_of_ash",
         "alcohol",
         "flavanoids"
        ],
        [
         "2",
         "alcohol",
         "color_intensity",
         "hue"
        ],
        [
         "3",
         "flavanoids",
         "ash",
         "od280/od315_of_diluted_wines"
        ],
        [
         "4",
         "ash",
         "hue",
         "ash"
        ]
       ],
       "shape": {
        "columns": 3,
        "rows": 5
       }
      },
      "text/html": [
       "<div>\n",
       "<style scoped>\n",
       "    .dataframe tbody tr th:only-of-type {\n",
       "        vertical-align: middle;\n",
       "    }\n",
       "\n",
       "    .dataframe tbody tr th {\n",
       "        vertical-align: top;\n",
       "    }\n",
       "\n",
       "    .dataframe thead th {\n",
       "        text-align: right;\n",
       "    }\n",
       "</style>\n",
       "<table border=\"1\" class=\"dataframe\">\n",
       "  <thead>\n",
       "    <tr style=\"text-align: right;\">\n",
       "      <th></th>\n",
       "      <th>Clase 0 (class_0)</th>\n",
       "      <th>Clase 1 (class_1)</th>\n",
       "      <th>Clase 2 (class_2)</th>\n",
       "    </tr>\n",
       "  </thead>\n",
       "  <tbody>\n",
       "    <tr>\n",
       "      <th>0</th>\n",
       "      <td>proline</td>\n",
       "      <td>proline</td>\n",
       "      <td>color_intensity</td>\n",
       "    </tr>\n",
       "    <tr>\n",
       "      <th>1</th>\n",
       "      <td>alcalinity_of_ash</td>\n",
       "      <td>alcohol</td>\n",
       "      <td>flavanoids</td>\n",
       "    </tr>\n",
       "    <tr>\n",
       "      <th>2</th>\n",
       "      <td>alcohol</td>\n",
       "      <td>color_intensity</td>\n",
       "      <td>hue</td>\n",
       "    </tr>\n",
       "    <tr>\n",
       "      <th>3</th>\n",
       "      <td>flavanoids</td>\n",
       "      <td>ash</td>\n",
       "      <td>od280/od315_of_diluted_wines</td>\n",
       "    </tr>\n",
       "    <tr>\n",
       "      <th>4</th>\n",
       "      <td>ash</td>\n",
       "      <td>hue</td>\n",
       "      <td>ash</td>\n",
       "    </tr>\n",
       "  </tbody>\n",
       "</table>\n",
       "</div>"
      ],
      "text/plain": [
       "   Clase 0 (class_0) Clase 1 (class_1)             Clase 2 (class_2)\n",
       "0            proline           proline               color_intensity\n",
       "1  alcalinity_of_ash           alcohol                    flavanoids\n",
       "2            alcohol   color_intensity                           hue\n",
       "3         flavanoids               ash  od280/od315_of_diluted_wines\n",
       "4                ash               hue                           ash"
      ]
     },
     "metadata": {},
     "output_type": "display_data"
    }
   ],
   "source": [
    "# ==============================================================\n",
    "# TOP 5 CARACTERÍSTICAS MÁS IMPORTANTES POR CLASE\n",
    "# ==============================================================\n",
    "df_top = pd.DataFrame()\n",
    "\n",
    "for k in range(K):\n",
    "    top = (pd.Series(our_coef[k], index=feature_names)\n",
    "           .abs().sort_values(ascending=False)\n",
    "           .head(5))\n",
    "    df_top[f\"Clase {k} ({class_names[k]})\"] = top.index\n",
    "\n",
    "print(\"\\n=== Top-5 características más influyentes por clase ===\")\n",
    "display(df_top)\n"
   ]
  }
 ],
 "metadata": {
  "kernelspec": {
   "display_name": ".venv",
   "language": "python",
   "name": "python3"
  },
  "language_info": {
   "codemirror_mode": {
    "name": "ipython",
    "version": 3
   },
   "file_extension": ".py",
   "mimetype": "text/x-python",
   "name": "python",
   "nbconvert_exporter": "python",
   "pygments_lexer": "ipython3",
   "version": "3.10.0"
  }
 },
 "nbformat": 4,
 "nbformat_minor": 5
}
